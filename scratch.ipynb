{
 "cells": [
  {
   "cell_type": "code",
   "execution_count": 74,
   "metadata": {},
   "outputs": [
    {
     "name": "stdout",
     "output_type": "stream",
     "text": [
      "The autoreload extension is already loaded. To reload it, use:\n",
      "  %reload_ext autoreload\n"
     ]
    }
   ],
   "source": [
    "import seaborn as sns\n",
    "import dill\n",
    "import numpy as np\n",
    "import parsing\n",
    "from matplotlib import pyplot as plt\n",
    "from sklearn.feature_extraction.text import TfidfVectorizer, CountVectorizer\n",
    "from functools import reduce\n",
    "import tfidf as t\n",
    "%load_ext autoreload\n",
    "%autoreload 2  \n"
   ]
  },
  {
   "cell_type": "code",
   "execution_count": 122,
   "metadata": {},
   "outputs": [],
   "source": [
    "with open('data/soup_all.pkd','rb') as file:\n",
    "    soups = dill.load(file)['recipes']\n",
    "with open('data/stew_all.pkd','rb') as file:\n",
    "    stews = dill.load(file)['recipes']\n",
    "recipes = soups + stews\n",
    "ingredients = reduce(lambda x,y: x+y, map(lambda x: x['ingredients'], recipes))"
   ]
  },
  {
   "cell_type": "code",
   "execution_count": 121,
   "metadata": {},
   "outputs": [],
   "source": [
    "with open('data/soup_parsed.pkd','rb') as file:\n",
    "    soups = dill.load(file)['recipes']\n",
    "with open('data/stew_parsed.pkd','rb') as file:\n",
    "    stews = dill.load(file)['recipes']\n",
    "recipes = stews + soups\n",
    "ingredients_parsed = reduce(lambda x,y: x+y, map(lambda x: x['ingredients'], recipes))"
   ]
  },
  {
   "cell_type": "code",
   "execution_count": null,
   "metadata": {},
   "outputs": [],
   "source": [
    "def convenience(recipe, recipes, restrictions, scrape=True, number=5):\n",
    "    url = recipe['url']\n",
    "    if scrape:\n",
    "        scraper = scrape_me(url, wild_mode=True)\n",
    "        \n",
    "        \n",
    "        title = scraper.title()\n",
    "        ingredients = parsing.revise_standardize(scraper.ingredients())\n",
    "        \n",
    "    else:\n",
    "        title = recipe['label']\n",
    "        ingredients = recipe['ingredients']\n",
    "    formatted_recipe = {'label':title, 'ingredients': ingredients}\n",
    "    scores, matches = t.get_best(formatted_recipe, recipes, \\\n",
    "                        restrictions=restrictions,number_results=number)\n",
    "    print(title)\n",
    "    print(url)\n",
    "    # print('scraped:',scraper.ingredients())\n",
    "    print('scraped and processed:',ingredients)\n",
    "    # print('edamam: ',recipe['ingredients'])\n",
    "    print('----------------------------------------')\n",
    "    for score,match in zip(scores,matches):\n",
    "        if match['label'] == formatted_recipe['label']:\n",
    "            print('Already satisfies')\n",
    "            break\n",
    "        print(score,match['label'])\n",
    "        print(match['ingredients'])\n",
    "        print('In common: ',set(ingredients).intersection(set(match['ingredients'])))\n",
    "        print(match['url'])\n",
    "        print('----------------------------------------')"
   ]
  },
  {
   "cell_type": "code",
   "execution_count": 118,
   "metadata": {},
   "outputs": [
    {
     "name": "stdout",
     "output_type": "stream",
     "text": [
      "nutmeg butter pinenuts raisins pasta ham spinach garlic parmesan flour milk oil 11503\n",
      "(11503, 1698)\n",
      "dumping\n"
     ]
    }
   ],
   "source": [
    "with open('./data/pasta_parsed.pkd','rb') as file:\n",
    "    recipes = dill.load(file)['recipes']\n",
    "\n",
    "corpus = [' '.join(recipe['ingredients']) for recipe in recipes]\n",
    "print(corpus[0], len(corpus))\n",
    "t = TfidfVectorizer()\n",
    "mt = t.fit_transform(corpus)\n",
    "yt = mt.toarray()\n",
    "print(yt.shape)\n",
    "with open('./data/tfidf_array_pasta.pkd','wb') as file:\n",
    "    print('dumping')\n",
    "    dill.dump(yt, file)\n"
   ]
  },
  {
   "cell_type": "code",
   "execution_count": 119,
   "metadata": {},
   "outputs": [],
   "source": [
    "yt = mt.toarray()\n",
    "with open('tfidf_array_pasta.pkd','wb') as file:\n",
    "    dill.dump(yt, file)\n",
    "# typical = yt.mean(axis=0)\n",
    "# sns.histplot(typical, log_scale=True)\n",
    "# n = 0\n",
    "\n",
    "# yc = mc.toarray()\n",
    "# print(yt[:,n].nonzero())\n",
    "# print(yt[yt[:,n].nonzero(),n])\n",
    "# x = y[:,0]\n",
    "# np.std(x)\n",
    "\n",
    "# print(type(y),y)\n",
    "# y[0]\n",
    "# plt.plot(y[0,:])\n",
    "# sns.histplot(y[0,:],log_scale = True)"
   ]
  },
  {
   "cell_type": "code",
   "execution_count": 125,
   "metadata": {},
   "outputs": [
    {
     "name": "stdout",
     "output_type": "stream",
     "text": [
      "7183\n",
      "2421\n"
     ]
    },
    {
     "data": {
      "image/png": "[encoded data removed]",
      "text/plain": [
       "<Figure size 640x480 with 1 Axes>"
      ]
     },
     "metadata": {},
     "output_type": "display_data"
    }
   ],
   "source": [
    "from collections import Counter\n",
    "\n",
    "count = Counter(ingredients)\n",
    "count_parsed = Counter(ingredients_parsed)\n",
    "print(len(count))\n",
    "print(len(count_parsed))\n",
    "x = np.array(list(count.values()))\n",
    "y = np.array(list(count_parsed.values()))\n",
    "p = sns.histplot(count.values(), log_scale=True, legend=False)\n",
    "p.set_xlabel('Ingredient commonality',fontsize=10)\n",
    "p.set_ylabel('Num. ingredients',fontsize=10)\n",
    "plt.show()\n",
    "# sns.histplot(count_parsed.values(), log_scale=True)\n",
    "# plt.show()"
   ]
  },
  {
   "cell_type": "code",
   "execution_count": 111,
   "metadata": {},
   "outputs": [
    {
     "name": "stdout",
     "output_type": "stream",
     "text": [
      "8404\n",
      "Chili Bites in Mini Cornbread Cups recipes\n"
     ]
    },
    {
     "name": "stderr",
     "output_type": "stream",
     "text": [
      "/Users/sam/opt/anaconda3/lib/python3.9/site-packages/scipy/sparse/_index.py:82: SparseEfficiencyWarning: Changing the sparsity structure of a csr_matrix is expensive. lil_matrix is more efficient.\n",
      "  self._set_intXint(row, col, x.flat[0])\n"
     ]
    },
    {
     "name": "stdout",
     "output_type": "stream",
     "text": [
      "0.07606234187912332\n"
     ]
    },
    {
     "data": {
      "text/plain": [
       "<AxesSubplot: ylabel='Count'>"
      ]
     },
     "execution_count": 111,
     "metadata": {},
     "output_type": "execute_result"
    },
    {
     "data": {
      "image/png": "[encoded data removed]",
      "text/plain": [
       "<Figure size 640x480 with 1 Axes>"
      ]
     },
     "metadata": {},
     "output_type": "display_data"
    }
   ],
   "source": [
    "import random\n",
    "r = recipes\n",
    "i = random.randint(0,len(r))\n",
    "# number = 5\n",
    "# i = 1145\n",
    "print(i)\n",
    "recipe = r[i]\n",
    "print(recipe['label'])#,recipe['url'])\n",
    "restrictions = ['Vegan']\n",
    "a,b,c = t.get_best(recipe, recipes, restrictions=['Vegetarian'],number_results=22000)\n",
    "# print(a[:10])\n",
    "print(np.dot(yt[i,:], typical))\n",
    "sns.histplot(a)"
   ]
  },
  {
   "cell_type": "code",
   "execution_count": 78,
   "metadata": {},
   "outputs": [
    {
     "name": "stdout",
     "output_type": "stream",
     "text": [
      "1145\n"
     ]
    }
   ],
   "source": [
    "for n, r in enumerate(recipes):\n",
    "    if r['label'].lower() == 'middle eastern lamb stew':\n",
    "\n",
    "        print(n)"
   ]
  },
  {
   "cell_type": "code",
   "execution_count": 92,
   "metadata": {},
   "outputs": [
    {
     "name": "stdout",
     "output_type": "stream",
     "text": [
      "[0.5756180247070442, 0.5575686670164945, 0.49134978095149306, 0.4811563596287159, 0.4654653569093007, 0.45201964166415304, 0.45075959447406255, 0.4505047094045544, 0.44778100699085355, 0.44162473026751725]\n"
     ]
    },
    {
     "data": {
      "text/plain": [
       "<AxesSubplot: ylabel='Count'>"
      ]
     },
     "execution_count": 92,
     "metadata": {},
     "output_type": "execute_result"
    },
    {
     "data": {
      "image/png": "[encoded data removed]",
      "text/plain": [
       "<Figure size 640x480 with 1 Axes>"
      ]
     },
     "metadata": {},
     "output_type": "display_data"
    }
   ],
   "source": []
  },
  {
   "cell_type": "code",
   "execution_count": null,
   "metadata": {},
   "outputs": [],
   "source": []
  }
 ],
 "metadata": {
  "kernelspec": {
   "display_name": "Python 3.9.7 ('base')",
   "language": "python",
   "name": "python3"
  },
  "language_info": {
   "codemirror_mode": {
    "name": "ipython",
    "version": 3
   },
   "file_extension": ".py",
   "mimetype": "text/x-python",
   "name": "python",
   "nbconvert_exporter": "python",
   "pygments_lexer": "ipython3",
   "version": "3.9.7"
  },
  "orig_nbformat": 4,
  "vscode": {
   "interpreter": {
    "hash": "3418417383af331fcbc8316060ae8874514fff1df7fef283aa38a0cc727c6ead"
   }
  }
 },
 "nbformat": 4,
 "nbformat_minor": 2
}
